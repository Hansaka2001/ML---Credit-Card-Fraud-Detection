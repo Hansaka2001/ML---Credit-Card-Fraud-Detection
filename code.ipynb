{
 "cells": [
  {
   "cell_type": "code",
   "execution_count": 1,
   "id": "0fe3773b",
   "metadata": {},
   "outputs": [],
   "source": [
    "# import the necessary packages\n",
    "import numpy as np\n",
    "import pandas as pd\n",
    "import matplotlib.pyplot as plt\n",
    "import seaborn as sns\n",
    "from matplotlib import gridspec\n"
   ]
  },
  {
   "cell_type": "code",
   "execution_count": 2,
   "id": "795fee73",
   "metadata": {},
   "outputs": [],
   "source": [
    "# Load the dataset from the csv file using pandas\n",
    "# best way is to mount the drive on colab and \n",
    "# copy the path for the csv file\n",
    "data = pd.read_csv(\"creditcardfraud.csv\")\n"
   ]
  },
  {
   "cell_type": "code",
   "execution_count": 3,
   "id": "648acb02",
   "metadata": {},
   "outputs": [
    {
     "data": {
      "text/html": [
       "<div>\n",
       "<style scoped>\n",
       "    .dataframe tbody tr th:only-of-type {\n",
       "        vertical-align: middle;\n",
       "    }\n",
       "\n",
       "    .dataframe tbody tr th {\n",
       "        vertical-align: top;\n",
       "    }\n",
       "\n",
       "    .dataframe thead th {\n",
       "        text-align: right;\n",
       "    }\n",
       "</style>\n",
       "<table border=\"1\" class=\"dataframe\">\n",
       "  <thead>\n",
       "    <tr style=\"text-align: right;\">\n",
       "      <th></th>\n",
       "      <th>Time</th>\n",
       "      <th>V1</th>\n",
       "      <th>V2</th>\n",
       "      <th>V3</th>\n",
       "      <th>V4</th>\n",
       "      <th>V5</th>\n",
       "      <th>V6</th>\n",
       "      <th>V7</th>\n",
       "      <th>V8</th>\n",
       "      <th>V9</th>\n",
       "      <th>...</th>\n",
       "      <th>V21</th>\n",
       "      <th>V22</th>\n",
       "      <th>V23</th>\n",
       "      <th>V24</th>\n",
       "      <th>V25</th>\n",
       "      <th>V26</th>\n",
       "      <th>V27</th>\n",
       "      <th>V28</th>\n",
       "      <th>Amount</th>\n",
       "      <th>Class</th>\n",
       "    </tr>\n",
       "  </thead>\n",
       "  <tbody>\n",
       "    <tr>\n",
       "      <th>0</th>\n",
       "      <td>111096.0</td>\n",
       "      <td>2.095273</td>\n",
       "      <td>0.005363</td>\n",
       "      <td>-1.448645</td>\n",
       "      <td>0.320803</td>\n",
       "      <td>0.366733</td>\n",
       "      <td>-0.647091</td>\n",
       "      <td>-0.007670</td>\n",
       "      <td>-0.280977</td>\n",
       "      <td>2.187868</td>\n",
       "      <td>...</td>\n",
       "      <td>0.090701</td>\n",
       "      <td>0.622382</td>\n",
       "      <td>0.006800</td>\n",
       "      <td>0.352553</td>\n",
       "      <td>0.323243</td>\n",
       "      <td>-0.466764</td>\n",
       "      <td>-0.026065</td>\n",
       "      <td>-0.058691</td>\n",
       "      <td>1.00</td>\n",
       "      <td>0</td>\n",
       "    </tr>\n",
       "    <tr>\n",
       "      <th>1</th>\n",
       "      <td>79272.0</td>\n",
       "      <td>1.158282</td>\n",
       "      <td>-0.180178</td>\n",
       "      <td>0.967549</td>\n",
       "      <td>0.888652</td>\n",
       "      <td>-0.957101</td>\n",
       "      <td>-0.412826</td>\n",
       "      <td>-0.436789</td>\n",
       "      <td>-0.008261</td>\n",
       "      <td>0.808686</td>\n",
       "      <td>...</td>\n",
       "      <td>0.074346</td>\n",
       "      <td>0.398780</td>\n",
       "      <td>-0.123952</td>\n",
       "      <td>0.457047</td>\n",
       "      <td>0.485607</td>\n",
       "      <td>0.507722</td>\n",
       "      <td>0.001095</td>\n",
       "      <td>0.022840</td>\n",
       "      <td>29.90</td>\n",
       "      <td>0</td>\n",
       "    </tr>\n",
       "    <tr>\n",
       "      <th>2</th>\n",
       "      <td>132593.0</td>\n",
       "      <td>1.953608</td>\n",
       "      <td>-0.626281</td>\n",
       "      <td>-0.273542</td>\n",
       "      <td>0.523814</td>\n",
       "      <td>-1.008114</td>\n",
       "      <td>-0.605656</td>\n",
       "      <td>-0.737915</td>\n",
       "      <td>0.030429</td>\n",
       "      <td>1.513787</td>\n",
       "      <td>...</td>\n",
       "      <td>0.150353</td>\n",
       "      <td>0.537825</td>\n",
       "      <td>0.159876</td>\n",
       "      <td>-0.009313</td>\n",
       "      <td>-0.335374</td>\n",
       "      <td>0.573685</td>\n",
       "      <td>-0.033367</td>\n",
       "      <td>-0.047451</td>\n",
       "      <td>28.75</td>\n",
       "      <td>0</td>\n",
       "    </tr>\n",
       "    <tr>\n",
       "      <th>3</th>\n",
       "      <td>152511.0</td>\n",
       "      <td>0.191138</td>\n",
       "      <td>0.975684</td>\n",
       "      <td>-0.306871</td>\n",
       "      <td>-0.184487</td>\n",
       "      <td>0.998363</td>\n",
       "      <td>-1.317371</td>\n",
       "      <td>1.216015</td>\n",
       "      <td>-0.518100</td>\n",
       "      <td>0.015540</td>\n",
       "      <td>...</td>\n",
       "      <td>0.236043</td>\n",
       "      <td>1.134086</td>\n",
       "      <td>-0.216546</td>\n",
       "      <td>-0.053337</td>\n",
       "      <td>-0.329110</td>\n",
       "      <td>-0.167737</td>\n",
       "      <td>0.229836</td>\n",
       "      <td>-0.028356</td>\n",
       "      <td>8.61</td>\n",
       "      <td>0</td>\n",
       "    </tr>\n",
       "    <tr>\n",
       "      <th>4</th>\n",
       "      <td>140096.0</td>\n",
       "      <td>-3.539055</td>\n",
       "      <td>-4.193024</td>\n",
       "      <td>-3.026249</td>\n",
       "      <td>2.160445</td>\n",
       "      <td>3.760330</td>\n",
       "      <td>-2.281773</td>\n",
       "      <td>0.117071</td>\n",
       "      <td>0.305625</td>\n",
       "      <td>-1.052794</td>\n",
       "      <td>...</td>\n",
       "      <td>1.172759</td>\n",
       "      <td>1.406402</td>\n",
       "      <td>0.650456</td>\n",
       "      <td>0.282794</td>\n",
       "      <td>-0.968230</td>\n",
       "      <td>-0.437851</td>\n",
       "      <td>0.445302</td>\n",
       "      <td>-0.347395</td>\n",
       "      <td>329.96</td>\n",
       "      <td>0</td>\n",
       "    </tr>\n",
       "  </tbody>\n",
       "</table>\n",
       "<p>5 rows × 31 columns</p>\n",
       "</div>"
      ],
      "text/plain": [
       "       Time        V1        V2        V3        V4        V5        V6  \\\n",
       "0  111096.0  2.095273  0.005363 -1.448645  0.320803  0.366733 -0.647091   \n",
       "1   79272.0  1.158282 -0.180178  0.967549  0.888652 -0.957101 -0.412826   \n",
       "2  132593.0  1.953608 -0.626281 -0.273542  0.523814 -1.008114 -0.605656   \n",
       "3  152511.0  0.191138  0.975684 -0.306871 -0.184487  0.998363 -1.317371   \n",
       "4  140096.0 -3.539055 -4.193024 -3.026249  2.160445  3.760330 -2.281773   \n",
       "\n",
       "         V7        V8        V9  ...       V21       V22       V23       V24  \\\n",
       "0 -0.007670 -0.280977  2.187868  ...  0.090701  0.622382  0.006800  0.352553   \n",
       "1 -0.436789 -0.008261  0.808686  ...  0.074346  0.398780 -0.123952  0.457047   \n",
       "2 -0.737915  0.030429  1.513787  ...  0.150353  0.537825  0.159876 -0.009313   \n",
       "3  1.216015 -0.518100  0.015540  ...  0.236043  1.134086 -0.216546 -0.053337   \n",
       "4  0.117071  0.305625 -1.052794  ...  1.172759  1.406402  0.650456  0.282794   \n",
       "\n",
       "        V25       V26       V27       V28  Amount  Class  \n",
       "0  0.323243 -0.466764 -0.026065 -0.058691    1.00      0  \n",
       "1  0.485607  0.507722  0.001095  0.022840   29.90      0  \n",
       "2 -0.335374  0.573685 -0.033367 -0.047451   28.75      0  \n",
       "3 -0.329110 -0.167737  0.229836 -0.028356    8.61      0  \n",
       "4 -0.968230 -0.437851  0.445302 -0.347395  329.96      0  \n",
       "\n",
       "[5 rows x 31 columns]"
      ]
     },
     "execution_count": 3,
     "metadata": {},
     "output_type": "execute_result"
    }
   ],
   "source": [
    "# Grab a peek at the data\n",
    "data.head()\n"
   ]
  },
  {
   "cell_type": "code",
   "execution_count": 4,
   "id": "bfc96db4",
   "metadata": {},
   "outputs": [
    {
     "name": "stdout",
     "output_type": "stream",
     "text": [
      "(10492, 31)\n",
      "                Time            V1            V2            V3            V4  \\\n",
      "count   10492.000000  10492.000000  10492.000000  10492.000000  10492.000000   \n",
      "mean    93684.105700     -0.249338      0.147207     -0.319251      0.206661   \n",
      "std     47295.911703      2.679344      2.184289      2.587227      1.782261   \n",
      "min        10.000000    -46.855047    -60.464618    -31.103685     -4.826127   \n",
      "25%     53381.000000     -1.009196     -0.570226     -1.035594     -0.813001   \n",
      "50%     83632.500000     -0.051853      0.115159      0.119919      0.054051   \n",
      "75%    138225.250000      1.282531      0.877200      0.982344      0.905784   \n",
      "max    172787.000000      2.408046     22.057729      3.802986     16.875344   \n",
      "\n",
      "                 V5            V6            V7            V8            V9  \\\n",
      "count  10492.000000  10492.000000  10492.000000  10492.000000  10492.000000   \n",
      "mean      -0.149669     -0.090609     -0.265507      0.037047     -0.111551   \n",
      "std        1.835993      1.337261      2.245286      1.881642      1.314826   \n",
      "min      -22.105532    -10.580776    -43.557242    -41.484823    -13.434066   \n",
      "25%       -0.747317     -0.824962     -0.613812     -0.205168     -0.711025   \n",
      "50%       -0.086420     -0.306040      0.013436      0.034596     -0.087433   \n",
      "75%        0.586931      0.363821      0.546518      0.355402      0.566684   \n",
      "max       13.028001      8.060516     24.422716     20.007208      8.075460   \n",
      "\n",
      "       ...           V21           V22           V23           V24  \\\n",
      "count  ...  10492.000000  10492.000000  10492.000000  10492.000000   \n",
      "mean   ...      0.034627      0.005107     -0.002149     -0.010896   \n",
      "std    ...      1.123525      0.782964      0.823281      0.604424   \n",
      "min    ...    -22.797604     -9.499423    -27.533643     -2.640481   \n",
      "25%    ...     -0.224789     -0.530924     -0.169049     -0.367533   \n",
      "50%    ...     -0.021082      0.013939     -0.012274      0.037858   \n",
      "75%    ...      0.210143      0.534811      0.155904      0.426898   \n",
      "max    ...     27.202839      8.361985     22.528412      4.022866   \n",
      "\n",
      "                V25           V26           V27           V28        Amount  \\\n",
      "count  10492.000000  10492.000000  10492.000000  10492.000000  10492.000000   \n",
      "mean       0.005093      0.002206      0.006591      0.000322     90.296560   \n",
      "std        0.545179      0.476910      0.477662      0.356696    308.696285   \n",
      "min       -7.081325     -2.604551     -7.263482     -8.310167      0.000000   \n",
      "25%       -0.314707     -0.322022     -0.069999     -0.053289      4.990000   \n",
      "50%        0.024195     -0.049701      0.004842      0.011881     21.245000   \n",
      "75%        0.358226      0.243442      0.101319      0.081666     77.142500   \n",
      "max        4.301757      3.004455      4.985140     13.999688  18910.000000   \n",
      "\n",
      "              Class  \n",
      "count  10492.000000  \n",
      "mean       0.046893  \n",
      "std        0.211419  \n",
      "min        0.000000  \n",
      "25%        0.000000  \n",
      "50%        0.000000  \n",
      "75%        0.000000  \n",
      "max        1.000000  \n",
      "\n",
      "[8 rows x 31 columns]\n"
     ]
    }
   ],
   "source": [
    "# Print the shape of the data\n",
    "# data = data.sample(frac = 0.1, random_state = 48)\n",
    "print(data.shape)\n",
    "print(data.describe())\n"
   ]
  },
  {
   "cell_type": "code",
   "execution_count": 6,
   "id": "7cffaeb9",
   "metadata": {},
   "outputs": [
    {
     "name": "stdout",
     "output_type": "stream",
     "text": [
      "0.0492\n",
      "Fraud Cases: 492\n",
      "Valid Transactions: 10000\n"
     ]
    }
   ],
   "source": [
    "# Determine number of fraud cases in dataset\n",
    "fraud = data[data['Class'] == 1]\n",
    "valid = data[data['Class'] == 0]\n",
    "outlierFraction = len(fraud)/float(len(valid))\n",
    "print(outlierFraction)\n",
    "print('Fraud Cases: {}'.format(len(data[data['Class'] == 1])))\n",
    "print('Valid Transactions: {}'.format(len(data[data['Class'] == 0])))\n"
   ]
  },
  {
   "cell_type": "code",
   "execution_count": 8,
   "id": "f4c86bb8",
   "metadata": {},
   "outputs": [
    {
     "name": "stdout",
     "output_type": "stream",
     "text": [
      "Amount details of the fraudulent transaction\n"
     ]
    },
    {
     "data": {
      "text/plain": [
       "count     492.000000\n",
       "mean      122.211321\n",
       "std       256.683288\n",
       "min         0.000000\n",
       "25%         1.000000\n",
       "50%         9.250000\n",
       "75%       105.890000\n",
       "max      2125.870000\n",
       "Name: Amount, dtype: float64"
      ]
     },
     "execution_count": 8,
     "metadata": {},
     "output_type": "execute_result"
    }
   ],
   "source": [
    "print('Amount details of the fraudulent transaction')\n",
    "fraud.Amount.describe()\n"
   ]
  },
  {
   "cell_type": "code",
   "execution_count": 9,
   "id": "b186c071",
   "metadata": {},
   "outputs": [
    {
     "name": "stdout",
     "output_type": "stream",
     "text": [
      "details of valid transaction\n"
     ]
    },
    {
     "data": {
      "text/plain": [
       "count    10000.000000\n",
       "mean        88.726354\n",
       "std        310.957193\n",
       "min          0.000000\n",
       "25%          5.370000\n",
       "50%         21.900000\n",
       "75%         75.460000\n",
       "max      18910.000000\n",
       "Name: Amount, dtype: float64"
      ]
     },
     "execution_count": 9,
     "metadata": {},
     "output_type": "execute_result"
    }
   ],
   "source": [
    "print('details of valid transaction')\n",
    "valid.Amount.describe()\n"
   ]
  },
  {
   "cell_type": "code",
   "execution_count": 10,
   "id": "70429db4",
   "metadata": {},
   "outputs": [
    {
     "data": {
      "image/png": "[encoded data removed]",
      "text/plain": [
       "<Figure size 864x648 with 2 Axes>"
      ]
     },
     "metadata": {
      "needs_background": "light"
     },
     "output_type": "display_data"
    }
   ],
   "source": [
    "# Correlation matrix\n",
    "corrmat = data.corr()\n",
    "fig = plt.figure(figsize = (12, 9))\n",
    "sns.heatmap(corrmat, vmax = .8, square = True)\n",
    "plt.show()\n"
   ]
  },
  {
   "cell_type": "code",
   "execution_count": 11,
   "id": "55873a03",
   "metadata": {},
   "outputs": [
    {
     "name": "stdout",
     "output_type": "stream",
     "text": [
      "(10492, 30)\n",
      "(10492,)\n"
     ]
    }
   ],
   "source": [
    "# dividing the X and the Y from the dataset\n",
    "X = data.drop(['Class'], axis = 1)\n",
    "Y = data[\"Class\"]\n",
    "print(X.shape)\n",
    "print(Y.shape)\n",
    "# getting just the values for the sake of processing \n",
    "# (its a numpy array with no columns)\n",
    "xData = X.values\n",
    "yData = Y.values\n"
   ]
  },
  {
   "cell_type": "code",
   "execution_count": 12,
   "id": "13a71a1c",
   "metadata": {},
   "outputs": [],
   "source": [
    "# Using Scikit-learn to split data into training and testing sets\n",
    "from sklearn.model_selection import train_test_split\n",
    "# Split the data into training and testing sets\n",
    "xTrain, xTest, yTrain, yTest = train_test_split(\n",
    "        xData, yData, test_size = 0.2, random_state = 42)\n"
   ]
  },
  {
   "cell_type": "code",
   "execution_count": 13,
   "id": "c7b99fb7",
   "metadata": {},
   "outputs": [],
   "source": [
    "# Building the Random Forest Classifier (RANDOM FOREST)\n",
    "from sklearn.ensemble import RandomForestClassifier\n",
    "# random forest model creation\n",
    "rfc = RandomForestClassifier()\n",
    "rfc.fit(xTrain, yTrain)\n",
    "# predictions\n",
    "yPred = rfc.predict(xTest)\n"
   ]
  },
  {
   "cell_type": "code",
   "execution_count": 14,
   "id": "e6becff3",
   "metadata": {},
   "outputs": [
    {
     "name": "stdout",
     "output_type": "stream",
     "text": [
      "The model used is Random Forest classifier\n",
      "The accuracy is 0.9899952358265841\n",
      "The precision is 0.975\n",
      "The recall is 0.8041237113402062\n",
      "The F1-Score is 0.8813559322033899\n",
      "The Matthews correlation coefficient is0.880618366683568\n"
     ]
    }
   ],
   "source": [
    "# Evaluating the classifier\n",
    "# printing every score of the classifier\n",
    "# scoring in anything\n",
    "from sklearn.metrics import classification_report, accuracy_score \n",
    "from sklearn.metrics import precision_score, recall_score\n",
    "from sklearn.metrics import f1_score, matthews_corrcoef\n",
    "from sklearn.metrics import confusion_matrix\n",
    "\n",
    "n_outliers = len(fraud)\n",
    "n_errors = (yPred != yTest).sum()\n",
    "print(\"The model used is Random Forest classifier\")\n",
    "\n",
    "acc = accuracy_score(yTest, yPred)\n",
    "print(\"The accuracy is {}\".format(acc))\n",
    "\n",
    "prec = precision_score(yTest, yPred)\n",
    "print(\"The precision is {}\".format(prec))\n",
    "\n",
    "rec = recall_score(yTest, yPred)\n",
    "print(\"The recall is {}\".format(rec))\n",
    "\n",
    "f1 = f1_score(yTest, yPred)\n",
    "print(\"The F1-Score is {}\".format(f1))\n",
    "\n",
    "MCC = matthews_corrcoef(yTest, yPred)\n",
    "print(\"The Matthews correlation coefficient is{}\".format(MCC))\n"
   ]
  },
  {
   "cell_type": "code",
   "execution_count": 15,
   "id": "73296393",
   "metadata": {},
   "outputs": [
    {
     "data": {
      "image/png": "[encoded data removed]",
      "text/plain": [
       "<Figure size 864x864 with 2 Axes>"
      ]
     },
     "metadata": {
      "needs_background": "light"
     },
     "output_type": "display_data"
    }
   ],
   "source": [
    "# printing the confusion matrix\n",
    "LABELS = ['Normal', 'Fraud']\n",
    "conf_matrix = confusion_matrix(yTest, yPred)\n",
    "plt.figure(figsize =(12, 12))\n",
    "sns.heatmap(conf_matrix, xticklabels = LABELS, \n",
    "            yticklabels = LABELS, annot = True, fmt =\"d\");\n",
    "plt.title(\"Confusion matrix\")\n",
    "plt.ylabel('True class')\n",
    "plt.xlabel('Predicted class')\n",
    "plt.show()\n"
   ]
  },
  {
   "cell_type": "code",
   "execution_count": null,
   "id": "30fcdfef",
   "metadata": {},
   "outputs": [],
   "source": []
  }
 ],
 "metadata": {
  "kernelspec": {
   "display_name": "Python 3 (ipykernel)",
   "language": "python",
   "name": "python3"
  },
  "language_info": {
   "codemirror_mode": {
    "name": "ipython",
    "version": 3
   },
   "file_extension": ".py",
   "mimetype": "text/x-python",
   "name": "python",
   "nbconvert_exporter": "python",
   "pygments_lexer": "ipython3",
   "version": "3.9.12"
  }
 },
 "nbformat": 4,
 "nbformat_minor": 5
}
